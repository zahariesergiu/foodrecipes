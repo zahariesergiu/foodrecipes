{
 "cells": [
  {
   "cell_type": "code",
   "execution_count": 1,
   "id": "d90af60b-a338-4865-8e81-028bcfd261e7",
   "metadata": {
    "id": "d90af60b-a338-4865-8e81-028bcfd261e7"
   },
   "outputs": [],
   "source": [
    "import io\n",
    "import os\n",
    "import re\n",
    "import shutil\n",
    "import string\n",
    "import pickle\n",
    "\n",
    "from keras.backend import int_shape\n",
    "import matplotlib.pyplot as plt\n",
    "import nltk\n",
    "from nltk.stem import PorterStemmer, WordNetLemmatizer\n",
    "from nltk.tokenize import sent_tokenize, word_tokenize\n",
    "import numpy as np\n",
    "import pandas as pd\n",
    "from sklearn.metrics import average_precision_score, precision_score\n",
    "from sklearn.model_selection import train_test_split\n",
    "from sklearn.preprocessing import MultiLabelBinarizer\n",
    "import tensorflow as tf\n",
    "from tensorflow.keras import layers\n",
    "from tensorflow.keras import Sequential\n",
    "from tensorflow.keras.metrics import Precision, Recall\n",
    "from tensorflow.keras.models import load_model\n",
    "from tensorflow.keras.layers.experimental.preprocessing import TextVectorization\n",
    "from tensorflow.keras.losses import BinaryCrossentropy\n",
    "import tensorflow_addons as tfa\n",
    "from tensorflow_addons.losses import SigmoidFocalCrossEntropy\n",
    "from tensorflow_addons.metrics import HammingLoss"
   ]
  },
  {
   "cell_type": "code",
   "execution_count": 2,
   "id": "YFhR1h63KX-5",
   "metadata": {
    "colab": {
     "base_uri": "https://localhost:8080/"
    },
    "id": "YFhR1h63KX-5",
    "outputId": "65d1968c-1bc9-40c2-f613-0b6d16dca02a"
   },
   "outputs": [],
   "source": [
    "# !pip install tensorflow_addons  # Run in colab"
   ]
  },
  {
   "cell_type": "code",
   "execution_count": 3,
   "id": "7e1e14cf-b7ff-4f5f-a8c8-d7a6003dfcc4",
   "metadata": {
    "colab": {
     "base_uri": "https://localhost:8080/"
    },
    "id": "7e1e14cf-b7ff-4f5f-a8c8-d7a6003dfcc4",
    "outputId": "1e0ace6b-e78f-4bf9-8a6b-2446274bb066"
   },
   "outputs": [
    {
     "name": "stdout",
     "output_type": "stream",
     "text": [
      "TF version 2.4.1\n",
      "GPU device not found\n"
     ]
    }
   ],
   "source": [
    "import tensorflow as tf\n",
    "device_name = tf.test.gpu_device_name()\n",
    "print(\"TF version\", tf.version.VERSION)\n",
    "if device_name != '/device:GPU:0':\n",
    "  print('GPU device not found')\n",
    "else:\n",
    "    print('Found GPU at: {}'.format(device_name))"
   ]
  },
  {
   "cell_type": "code",
   "execution_count": 4,
   "id": "ba68a076-f47e-4486-981a-d4ea652926a8",
   "metadata": {
    "id": "ba68a076-f47e-4486-981a-d4ea652926a8"
   },
   "outputs": [],
   "source": [
    "DATA_PATH = \"./data/\"\n",
    "MODEL_PATH_SMALL = \"./models_small/\"\n",
    "MODEL_PATH_BIG = \"./models_big/\""
   ]
  },
  {
   "cell_type": "code",
   "execution_count": 5,
   "id": "f754ae60-e33f-4e4e-a43f-3e6904c3f674",
   "metadata": {
    "id": "f754ae60-e33f-4e4e-a43f-3e6904c3f674"
   },
   "outputs": [],
   "source": [
    "clean_recipes = pd.read_csv(DATA_PATH + 'clean_recipes.csv', delimiter=';')\n",
    "clean_recipes = clean_recipes.dropna(subset=[\"Directions\"])"
   ]
  },
  {
   "cell_type": "code",
   "execution_count": 6,
   "id": "a1480b64-a481-402d-9292-cd3c30a40cd3",
   "metadata": {},
   "outputs": [
    {
     "data": {
      "text/html": [
       "<div>\n",
       "<style scoped>\n",
       "    .dataframe tbody tr th:only-of-type {\n",
       "        vertical-align: middle;\n",
       "    }\n",
       "\n",
       "    .dataframe tbody tr th {\n",
       "        vertical-align: top;\n",
       "    }\n",
       "\n",
       "    .dataframe thead th {\n",
       "        text-align: right;\n",
       "    }\n",
       "</style>\n",
       "<table border=\"1\" class=\"dataframe\">\n",
       "  <thead>\n",
       "    <tr style=\"text-align: right;\">\n",
       "      <th></th>\n",
       "      <th>Recipe Name</th>\n",
       "      <th>Review Count</th>\n",
       "      <th>Recipe Photo</th>\n",
       "      <th>Author</th>\n",
       "      <th>Prepare Time</th>\n",
       "      <th>Cook Time</th>\n",
       "      <th>Total Time</th>\n",
       "      <th>Ingredients</th>\n",
       "      <th>Directions</th>\n",
       "      <th>RecipeID</th>\n",
       "    </tr>\n",
       "  </thead>\n",
       "  <tbody>\n",
       "    <tr>\n",
       "      <th>0</th>\n",
       "      <td>Golden Crescent Rolls Recipe</td>\n",
       "      <td>304</td>\n",
       "      <td>https://images.media-allrecipes.com/userphotos...</td>\n",
       "      <td>Mike A.</td>\n",
       "      <td>25 m</td>\n",
       "      <td>15 m</td>\n",
       "      <td>3 h 10 m</td>\n",
       "      <td>yeast,water,white sugar,salt,egg,butter,flour,...</td>\n",
       "      <td>Dissolve yeast in warm water.**Stir in sugar, ...</td>\n",
       "      <td>7000</td>\n",
       "    </tr>\n",
       "    <tr>\n",
       "      <th>1</th>\n",
       "      <td>Poppy Seed Bread with Glaze Recipe</td>\n",
       "      <td>137</td>\n",
       "      <td>https://images.media-allrecipes.com/userphotos...</td>\n",
       "      <td>Christina Jun</td>\n",
       "      <td>15 m</td>\n",
       "      <td>1 h</td>\n",
       "      <td>1 h 20 m</td>\n",
       "      <td>flour,salt,baking powder,poppy,butter,vegetabl...</td>\n",
       "      <td>'Preheat oven to 350 degrees F (175 degrees C)...</td>\n",
       "      <td>7001</td>\n",
       "    </tr>\n",
       "    <tr>\n",
       "      <th>2</th>\n",
       "      <td>Applesauce Bread I Recipe</td>\n",
       "      <td>124</td>\n",
       "      <td>https://images.media-allrecipes.com/userphotos...</td>\n",
       "      <td>GAF55</td>\n",
       "      <td>10 m</td>\n",
       "      <td>1 h 20 m</td>\n",
       "      <td>1 h 30 m</td>\n",
       "      <td>flour,egg,white sugar,vegetable oil,applesauce...</td>\n",
       "      <td>Preheat oven to 350 degrees F (175 degrees C)....</td>\n",
       "      <td>7003</td>\n",
       "    </tr>\n",
       "    <tr>\n",
       "      <th>3</th>\n",
       "      <td>Apple Raisin Bread Recipe</td>\n",
       "      <td>39</td>\n",
       "      <td>https://images.media-allrecipes.com/userphotos...</td>\n",
       "      <td>Helen Hanson</td>\n",
       "      <td>15 m</td>\n",
       "      <td>1 h</td>\n",
       "      <td>1 h 15 m</td>\n",
       "      <td>flour,baking powder,baking soda,salt,cinnamon,...</td>\n",
       "      <td>Preheat oven to 350 degrees F (175 degrees C)....</td>\n",
       "      <td>7006</td>\n",
       "    </tr>\n",
       "    <tr>\n",
       "      <th>4</th>\n",
       "      <td>Buttermilk Oatmeal Bread Recipe</td>\n",
       "      <td>41</td>\n",
       "      <td>https://images.media-allrecipes.com/userphotos...</td>\n",
       "      <td>Helen Hanson</td>\n",
       "      <td>10 m</td>\n",
       "      <td>1 h</td>\n",
       "      <td>1 h 40 m</td>\n",
       "      <td>oat,buttermilk,vegetable oil,egg,brown sugar,f...</td>\n",
       "      <td>Mix oats with buttermilk.  Let stand for 1/2 h...</td>\n",
       "      <td>7007</td>\n",
       "    </tr>\n",
       "    <tr>\n",
       "      <th>...</th>\n",
       "      <td>...</td>\n",
       "      <td>...</td>\n",
       "      <td>...</td>\n",
       "      <td>...</td>\n",
       "      <td>...</td>\n",
       "      <td>...</td>\n",
       "      <td>...</td>\n",
       "      <td>...</td>\n",
       "      <td>...</td>\n",
       "      <td>...</td>\n",
       "    </tr>\n",
       "    <tr>\n",
       "      <th>12346</th>\n",
       "      <td>Hot Coffee Frosting Recipe</td>\n",
       "      <td>5</td>\n",
       "      <td>https://images.media-allrecipes.com/userphotos...</td>\n",
       "      <td>Jean</td>\n",
       "      <td>30 m</td>\n",
       "      <td>30 m</td>\n",
       "      <td>1 h</td>\n",
       "      <td>sugar,butter,cocoa powder,vanilla,coffee</td>\n",
       "      <td>'In a large bowl, combine confectioners'' suga...</td>\n",
       "      <td>27456</td>\n",
       "    </tr>\n",
       "    <tr>\n",
       "      <th>12347</th>\n",
       "      <td>White Chocolate Blueberry Cheesecake Recipe</td>\n",
       "      <td>78</td>\n",
       "      <td>https://images.media-allrecipes.com/userphotos...</td>\n",
       "      <td>Scott M.</td>\n",
       "      <td>20 m</td>\n",
       "      <td>1 h</td>\n",
       "      <td>1 h 20 m</td>\n",
       "      <td>CRUST:,ham,almond,white sugar,butter,caramel,F...</td>\n",
       "      <td>Preheat oven to 275 degrees F (135 degrees C)....</td>\n",
       "      <td>27478</td>\n",
       "    </tr>\n",
       "    <tr>\n",
       "      <th>12348</th>\n",
       "      <td>'Aunt Anne''s Coffee Cake Recipe '</td>\n",
       "      <td>704</td>\n",
       "      <td>https://images.media-allrecipes.com/userphotos...</td>\n",
       "      <td>Mary</td>\n",
       "      <td>20 m</td>\n",
       "      <td>25 m</td>\n",
       "      <td>45 m</td>\n",
       "      <td>flour,white sugar,baking powder,salt,butter,eg...</td>\n",
       "      <td>Preheat oven to 350 degrees F (175 degrees C)....</td>\n",
       "      <td>27491</td>\n",
       "    </tr>\n",
       "    <tr>\n",
       "      <th>12349</th>\n",
       "      <td>Giant Ding Dong Cake Recipe</td>\n",
       "      <td>157</td>\n",
       "      <td>https://images.media-allrecipes.com/userphotos...</td>\n",
       "      <td>TheThreeDogKitchen</td>\n",
       "      <td>25 m</td>\n",
       "      <td>50 m</td>\n",
       "      <td>2 h 15 m</td>\n",
       "      <td>cake,chocolate,egg,water,vegetable oil,flour,m...</td>\n",
       "      <td>Preheat oven to 350 degrees F (175 degrees C)....</td>\n",
       "      <td>27511</td>\n",
       "    </tr>\n",
       "    <tr>\n",
       "      <th>12350</th>\n",
       "      <td>Peach Coffee Cake Recipe</td>\n",
       "      <td>10</td>\n",
       "      <td>https://images.media-allrecipes.com/userphotos...</td>\n",
       "      <td>David</td>\n",
       "      <td>15 m</td>\n",
       "      <td>50 m</td>\n",
       "      <td>1 h 5 m</td>\n",
       "      <td>peach,brown sugar,cornstarch,vegetable oil,flo...</td>\n",
       "      <td>Preheat oven to 350 degrees F (175 degrees C)....</td>\n",
       "      <td>27546</td>\n",
       "    </tr>\n",
       "  </tbody>\n",
       "</table>\n",
       "<p>12345 rows × 10 columns</p>\n",
       "</div>"
      ],
      "text/plain": [
       "                                        Recipe Name Review Count  \\\n",
       "0                     Golden Crescent Rolls Recipe           304   \n",
       "1               Poppy Seed Bread with Glaze Recipe           137   \n",
       "2                        Applesauce Bread I Recipe           124   \n",
       "3                        Apple Raisin Bread Recipe            39   \n",
       "4                  Buttermilk Oatmeal Bread Recipe            41   \n",
       "...                                             ...          ...   \n",
       "12346                   Hot Coffee Frosting Recipe             5   \n",
       "12347  White Chocolate Blueberry Cheesecake Recipe            78   \n",
       "12348            'Aunt Anne''s Coffee Cake Recipe '          704   \n",
       "12349                  Giant Ding Dong Cake Recipe           157   \n",
       "12350                     Peach Coffee Cake Recipe            10   \n",
       "\n",
       "                                            Recipe Photo              Author  \\\n",
       "0      https://images.media-allrecipes.com/userphotos...             Mike A.   \n",
       "1      https://images.media-allrecipes.com/userphotos...       Christina Jun   \n",
       "2      https://images.media-allrecipes.com/userphotos...               GAF55   \n",
       "3      https://images.media-allrecipes.com/userphotos...        Helen Hanson   \n",
       "4      https://images.media-allrecipes.com/userphotos...        Helen Hanson   \n",
       "...                                                  ...                 ...   \n",
       "12346  https://images.media-allrecipes.com/userphotos...                Jean   \n",
       "12347  https://images.media-allrecipes.com/userphotos...            Scott M.   \n",
       "12348  https://images.media-allrecipes.com/userphotos...                Mary   \n",
       "12349  https://images.media-allrecipes.com/userphotos...  TheThreeDogKitchen   \n",
       "12350  https://images.media-allrecipes.com/userphotos...               David   \n",
       "\n",
       "      Prepare Time Cook Time Total Time  \\\n",
       "0             25 m      15 m   3 h 10 m   \n",
       "1             15 m       1 h   1 h 20 m   \n",
       "2             10 m  1 h 20 m   1 h 30 m   \n",
       "3             15 m       1 h   1 h 15 m   \n",
       "4             10 m       1 h   1 h 40 m   \n",
       "...            ...       ...        ...   \n",
       "12346         30 m      30 m        1 h   \n",
       "12347         20 m       1 h   1 h 20 m   \n",
       "12348         20 m      25 m       45 m   \n",
       "12349         25 m      50 m   2 h 15 m   \n",
       "12350         15 m      50 m    1 h 5 m   \n",
       "\n",
       "                                             Ingredients  \\\n",
       "0      yeast,water,white sugar,salt,egg,butter,flour,...   \n",
       "1      flour,salt,baking powder,poppy,butter,vegetabl...   \n",
       "2      flour,egg,white sugar,vegetable oil,applesauce...   \n",
       "3      flour,baking powder,baking soda,salt,cinnamon,...   \n",
       "4      oat,buttermilk,vegetable oil,egg,brown sugar,f...   \n",
       "...                                                  ...   \n",
       "12346           sugar,butter,cocoa powder,vanilla,coffee   \n",
       "12347  CRUST:,ham,almond,white sugar,butter,caramel,F...   \n",
       "12348  flour,white sugar,baking powder,salt,butter,eg...   \n",
       "12349  cake,chocolate,egg,water,vegetable oil,flour,m...   \n",
       "12350  peach,brown sugar,cornstarch,vegetable oil,flo...   \n",
       "\n",
       "                                              Directions  RecipeID  \n",
       "0      Dissolve yeast in warm water.**Stir in sugar, ...      7000  \n",
       "1      'Preheat oven to 350 degrees F (175 degrees C)...      7001  \n",
       "2      Preheat oven to 350 degrees F (175 degrees C)....      7003  \n",
       "3      Preheat oven to 350 degrees F (175 degrees C)....      7006  \n",
       "4      Mix oats with buttermilk.  Let stand for 1/2 h...      7007  \n",
       "...                                                  ...       ...  \n",
       "12346  'In a large bowl, combine confectioners'' suga...     27456  \n",
       "12347  Preheat oven to 275 degrees F (135 degrees C)....     27478  \n",
       "12348  Preheat oven to 350 degrees F (175 degrees C)....     27491  \n",
       "12349  Preheat oven to 350 degrees F (175 degrees C)....     27511  \n",
       "12350  Preheat oven to 350 degrees F (175 degrees C)....     27546  \n",
       "\n",
       "[12345 rows x 10 columns]"
      ]
     },
     "execution_count": 6,
     "metadata": {},
     "output_type": "execute_result"
    }
   ],
   "source": [
    "clean_recipes"
   ]
  },
  {
   "cell_type": "code",
   "execution_count": 7,
   "id": "2956086e-3b81-4fe8-87d5-19c0169fd0b6",
   "metadata": {
    "colab": {
     "base_uri": "https://localhost:8080/"
    },
    "id": "2956086e-3b81-4fe8-87d5-19c0169fd0b6",
    "outputId": "337f3ab4-073c-4764-95c2-f39dd4a1443a"
   },
   "outputs": [
    {
     "data": {
      "text/plain": [
       "0    yeast,water,white sugar,salt,egg,butter,flour,...\n",
       "1    flour,salt,baking powder,poppy,butter,vegetabl...\n",
       "2    flour,egg,white sugar,vegetable oil,applesauce...\n",
       "3    flour,baking powder,baking soda,salt,cinnamon,...\n",
       "4    oat,buttermilk,vegetable oil,egg,brown sugar,f...\n",
       "Name: Ingredients, dtype: object"
      ]
     },
     "execution_count": 7,
     "metadata": {},
     "output_type": "execute_result"
    }
   ],
   "source": [
    "ingredients = clean_recipes.Ingredients\n",
    "ingredients.head()"
   ]
  },
  {
   "cell_type": "code",
   "execution_count": 8,
   "id": "00f2b71e-a7eb-4b1e-9f6f-f6eddfa53301",
   "metadata": {
    "colab": {
     "base_uri": "https://localhost:8080/"
    },
    "id": "00f2b71e-a7eb-4b1e-9f6f-f6eddfa53301",
    "outputId": "f715e441-b82b-4f7e-a93c-9888885a16d4"
   },
   "outputs": [
    {
     "data": {
      "text/plain": [
       "0        Dissolve yeast in warm water.**Stir in sugar, ...\n",
       "1        'Preheat oven to 350 degrees F (175 degrees C)...\n",
       "2        Preheat oven to 350 degrees F (175 degrees C)....\n",
       "3        Preheat oven to 350 degrees F (175 degrees C)....\n",
       "4        Mix oats with buttermilk.  Let stand for 1/2 h...\n",
       "                               ...                        \n",
       "12346    'In a large bowl, combine confectioners'' suga...\n",
       "12347    Preheat oven to 275 degrees F (135 degrees C)....\n",
       "12348    Preheat oven to 350 degrees F (175 degrees C)....\n",
       "12349    Preheat oven to 350 degrees F (175 degrees C)....\n",
       "12350    Preheat oven to 350 degrees F (175 degrees C)....\n",
       "Name: Directions, Length: 12345, dtype: object"
      ]
     },
     "execution_count": 8,
     "metadata": {},
     "output_type": "execute_result"
    }
   ],
   "source": [
    "directions = clean_recipes.Directions\n",
    "directions"
   ]
  },
  {
   "cell_type": "code",
   "execution_count": 9,
   "id": "8fcf37b1-7a53-4d49-9381-757ac4f8944c",
   "metadata": {},
   "outputs": [
    {
     "data": {
      "text/plain": [
       "\"'Sift together the flour, sugar, and salt into a bowl.**Toss butter through flour mixture to coat pieces. Using fingertips, rub fat into flour, working it until you have created a coarse meal with a few pea-size particles of fat.**Empty crumbs onto a cool surface.  Form mixture into a mound.  Make a 4 to 5 inch well in center of the mound.  Combine egg and vanilla and pour mixture into the well.  Using a fork, draw crumbs into egg mixture, about 1 - 2 tablespoons at a time.  When all crumbs are added, toss mixture a few times with a pastry blender to form large clumps, then scrape into a mound.**Using the heel of your hand, push 2 - 3 tablespoons of the dough at a time, outward in 6 to 8 inch sweeps.  This will blend fat and flour and give crust a delicate texture.  If your hand becomes sticky, flour it as needed.  Repeat process until all dough has been worked.  Gather dough into a mound again.  Repeat procedure 2 more times.**After third time, flour your hands.  Gently knead the dough 5 or 6 times to make it smooth.  Shape into a 5 inch disk. Dust disk lightly with flour, score with side of your hand, cover with plastic wrap, refrigerate for 20 minutes before shaping.  DO NOT LET DOUGH BECOME TOO HARD or it will be difficult to roll.  If this happens, let pastry soften at room temperature.**Roll out to 1/8 inch thickness.  After dough has been rolled, position rolling pin 4 inches from top of the pastry.  Lift dough over top of rolling pin and gently roll dough toward you.  Lift pastry up. Make sure you keep a finger pressed against barrel of rolling pin to keep it from slipping.  Position pastry, leaving about 1 1/2 inches of dough hanging over edge of pan on side closest to you. Then unroll pastry over an ungreased tart pan, moving pin away from you.  Immediately lift overhang into pan to prevent sharp edge of the pan from cutting dough.**Working a small portion of the dough at a time, mold it into crease of the pan.  Trim excess pastry from top edge of pan.  Chill pastry in refrigerator or freezer for up to 30 minutes.  Tear an 18 inch square of  tin foil.  Make a buttered circle in center of foil 2 inches larger than size of pan.  Place foil buttered side down, centering it into the baking pan.  Using your hand, press foil flush against the sides.**Heat oven to 425 degrees F (220 degrees C). Position shelf in lower third of oven.  Fill pan with enough dried beans or baking nuggets to just cover surface of pan. DO NOT OVERFILL.  Bake pastry shell on a shallow pan with sides.  Bake crust 15 to 18 minutes or until sides begin to brown.  Remove pan from the oven. Let stand about 30 seconds.  Gently remove foil and beans.  Reduce oven to 375 degrees F (190 degrees C). Continue to bake crust for 3 to 5 minutes or until it is golden.  If bottom of pastry shell puffs up, tap it gently with bottom of a fork to expel the air.  Do this carefully so the pastry crust doesn''t break.  When crust is done, cool completely before filling.**'\""
      ]
     },
     "execution_count": 9,
     "metadata": {},
     "output_type": "execute_result"
    }
   ],
   "source": [
    "directions[3889]"
   ]
  },
  {
   "cell_type": "code",
   "execution_count": 10,
   "id": "8a9a411b-8a4a-4563-aea0-7d257938c078",
   "metadata": {},
   "outputs": [
    {
     "name": "stdout",
     "output_type": "stream",
     "text": [
      "10 0\n",
      "100 1\n",
      "12 2\n",
      "14 3\n",
      "15 4\n",
      "16 5\n",
      "zwieback 797\n",
      "zucchini 796\n",
      "zinfandel 795\n",
      "zest 794\n",
      "yum 793\n",
      "yogurt 792\n"
     ]
    },
    {
     "data": {
      "text/plain": [
       "array(['yeast,water,white sugar,salt,egg,butter,flour,butter',\n",
       "       'flour,salt,baking powder,poppy,butter,vegetable oil,egg,milk,white sugar,vanilla,almond,orange juice,butter,almond,vanilla,sugar',\n",
       "       'flour,egg,white sugar,vegetable oil,applesauce,raisin,cinnamon,baking soda,baking powder,sour cream',\n",
       "       ...,\n",
       "       'flour,white sugar,baking powder,salt,butter,egg,milk,vanilla,flour,white sugar,cinnamon,butter',\n",
       "       'cake,chocolate,egg,water,vegetable oil,flour,milk,shortening,butter,white sugar,vanilla,chocolate,shortening,corn syrup,water',\n",
       "       'peach,brown sugar,cornstarch,vegetable oil,flour,white sugar,baking powder,lemon,egg,vanilla,vegetable oil,orange juice'],\n",
       "      dtype=object)"
      ]
     },
     "execution_count": 10,
     "metadata": {},
     "output_type": "execute_result"
    }
   ],
   "source": [
    "from sklearn.feature_extraction.text import CountVectorizer\n",
    "\n",
    "_t = np.array(clean_recipes[\"Ingredients\"])\n",
    "cv = CountVectorizer()\n",
    "cv.fit(_t)\n",
    "for i, (k,v) in enumerate({k: v for k, v in sorted(cv.vocabulary_.items(), key=lambda item: item[1])}.items()):\n",
    "    print(k,v)\n",
    "    if i==5:\n",
    "        break\n",
    "for i, (k,v) in enumerate({k: v for k, v in sorted(cv.vocabulary_.items(), key=lambda item: item[1], reverse=True)}.items()):\n",
    "    print(k,v)\n",
    "    if i==5:\n",
    "        break\n",
    "cv.vocabulary_[\"sugar\"]\n",
    "_t"
   ]
  },
  {
   "cell_type": "code",
   "execution_count": 11,
   "id": "ed876660-244f-4e79-8f9d-41262cf1f0a2",
   "metadata": {},
   "outputs": [
    {
     "name": "stderr",
     "output_type": "stream",
     "text": [
      "[nltk_data] Downloading package wordnet to /home/sergiuz/nltk_data...\n",
      "[nltk_data]   Package wordnet is already up-to-date!\n"
     ]
    }
   ],
   "source": [
    "nltk.download('wordnet')\n",
    "ps = PorterStemmer()\n",
    "lemmatizer = WordNetLemmatizer()\n",
    "\n",
    "def preprocess_pipeline(text, delimiter=\" \"):\n",
    "#     text = text.lower()\n",
    "    import re\n",
    "    text = re.sub('[^A-Za-z0-9 ]+', '', text)\n",
    "    tokens = []\n",
    "    for token in text.split(delimiter):\n",
    "#         token = lemmatizer.lemmatize(token)\n",
    "        token = ps.stem(token)\n",
    "        if token:\n",
    "            tokens.append(token)\n",
    "    text = delimiter.join(tokens)\n",
    "    return text\n",
    "\n",
    "\n",
    "def save_obj(obj, path):\n",
    "  _file = open(path, \"wb\")\n",
    "  pickle.dump(obj, _file)\n",
    "  _file.close()\n",
    "\n",
    "def load_obj(path):\n",
    "  _file = open(path,'rb')\n",
    "  obj = pickle.load(_file)\n",
    "  _file.close()\n",
    "  return obj\n",
    "\n",
    "def evaluate(model, train_ds, test_ds,  X_train, y_train,  X_test, y_test, train_batch, test_batch):\n",
    "    y_score = model.predict(train_ds.batch(X_train.shape[0]))\n",
    "    y_pred = (y_score > 0.5) .astype(int)\n",
    "\n",
    "    y_score_test = model.predict(test_ds.batch(X_test.shape[0]))\n",
    "    y_pred_test = (y_score_test > 0.5).astype(int)\n",
    "\n",
    "    print(\"train\")\n",
    "    result = model.evaluate(train_ds.batch(X_train.shape[0]))\n",
    "  \n",
    "    print(\"test\")\n",
    "    result = model.evaluate(test_ds.batch(X_test.shape[0]))\n"
   ]
  },
  {
   "cell_type": "code",
   "execution_count": 12,
   "id": "77L0r2Pd5oDB",
   "metadata": {
    "colab": {
     "base_uri": "https://localhost:8080/"
    },
    "id": "77L0r2Pd5oDB",
    "outputId": "82cc2c43-8f66-4eb5-bbb0-86baa1f716b7"
   },
   "outputs": [
    {
     "name": "stdout",
     "output_type": "stream",
     "text": [
      "0        dissolv yeast in warm waterstir in sugar salt ...\n",
      "1        preheat oven to 350 degre f 175 degre c greas ...\n",
      "2        preheat oven to 350 degre f 175 degre c greas ...\n",
      "3        preheat oven to 350 degre f 175 degre c greas ...\n",
      "4        mix oat with buttermilk let stand for 12 hours...\n",
      "                               ...                        \n",
      "12346    in a larg bowl combin confection sugar butter ...\n",
      "12347    preheat oven to 275 degre f 135 degre c make t...\n",
      "12348    preheat oven to 350 degre f 175 degre c greas ...\n",
      "12349    preheat oven to 350 degre f 175 degre c greas ...\n",
      "12350    preheat oven to 350 degre f 175 degre c lightl...\n",
      "Name: Directions, Length: 12345, dtype: object\n"
     ]
    }
   ],
   "source": [
    "# text = \"I love Machine8 learning** and Footb*all\"\n",
    "# preprocess_pipeline(text)\n",
    "directions = directions.apply(preprocess_pipeline)\n",
    "print(directions)\n",
    "mlb = MultiLabelBinarizer()\n",
    "label = mlb.fit_transform(ingredients.str.split(',').values)"
   ]
  },
  {
   "cell_type": "code",
   "execution_count": null,
   "id": "VXrjTkChpTIL",
   "metadata": {
    "id": "VXrjTkChpTIL"
   },
   "outputs": [],
   "source": []
  },
  {
   "cell_type": "code",
   "execution_count": 13,
   "id": "25c7ff45-14c9-4168-a000-112c64f9196c",
   "metadata": {
    "id": "25c7ff45-14c9-4168-a000-112c64f9196c"
   },
   "outputs": [],
   "source": [
    "# directions10, _, _, _ =  train_test_split(directions, label, train_size=0.2, random_state=42)  # Use only 20% of data\n",
    "# ingredients10 = ingredients.loc[directions10.index]\n",
    "# mlb = MultiLabelBinarizer()\n",
    "# label10 = mlb.fit_transform(ingredients10.str.split(',').values)\n",
    "# noutputs = label10.shape[1]\n",
    "# X_train, X_test, y_train, y_test =  train_test_split(directions10, label10, test_size=0.25, random_state=42)\n",
    "\n",
    "mlb = MultiLabelBinarizer()\n",
    "label = mlb.fit_transform(ingredients.str.split(',').values)\n",
    "noutputs = label.shape[1]\n",
    "X_train, X_test, y_train, y_test =  train_test_split(directions, label, test_size=0.25)\n",
    "\n",
    "train_ds = tf.data.Dataset.from_tensor_slices((X_train, y_train))\n",
    "test_ds = tf.data.Dataset.from_tensor_slices((X_test, y_test))"
   ]
  },
  {
   "cell_type": "code",
   "execution_count": 14,
   "id": "xaT76uyen0-s",
   "metadata": {
    "colab": {
     "base_uri": "https://localhost:8080/"
    },
    "id": "xaT76uyen0-s",
    "outputId": "06c47407-6835-4a1d-e843-0c5f1c105940"
   },
   "outputs": [
    {
     "data": {
      "text/plain": [
       "(943, (943,), (12345, 943))"
      ]
     },
     "execution_count": 14,
     "metadata": {},
     "output_type": "execute_result"
    }
   ],
   "source": [
    "noutputs, mlb.classes_.shape, label.shape"
   ]
  },
  {
   "cell_type": "code",
   "execution_count": 15,
   "id": "2c396dab-51c0-49a6-80cf-6353ff4905a0",
   "metadata": {
    "id": "2c396dab-51c0-49a6-80cf-6353ff4905a0",
    "tags": []
   },
   "outputs": [],
   "source": [
    "vocab_size = 10000\n",
    "sequence_length = 200\n",
    "EMBEDDINGS_DIM = 200\n",
    "\n",
    "vectorization1 = TextVectorization(\n",
    "    max_tokens=vocab_size,\n",
    "    output_mode='int',\n",
    "    output_sequence_length=sequence_length)\n",
    "\n",
    "vectorization2 = TextVectorization(\n",
    "    max_tokens=vocab_size,\n",
    "    output_mode='binary',\n",
    "    ngrams=(1, 2),\n",
    "    )\n",
    "\n",
    "vectorization3 = TextVectorization(\n",
    "    max_tokens=vocab_size,\n",
    "    output_mode=\"tf-idf\",\n",
    "    ngrams=(1, 2),\n",
    "    )\n",
    "\n",
    "# Make a text-only dataset (no labels) and call adapt to build the vocabulary.\n",
    "text_ds = train_ds.map(lambda x, y: x)\n",
    "vectorization1.adapt(text_ds)\n",
    "vectorization2.adapt(text_ds)\n",
    "vectorization3.adapt(text_ds)\n",
    "\n",
    "# metrics=['accuracy', HammingLoss(name=\"hamming_loss\", mode='multilabel'), Precision(name='precision'), Recall(name='recall')]\n",
    "metrics=['accuracy', Precision(name='precision'), Recall(name='recall')]\n",
    "metrics_name = [m if isinstance(m, str) else m.name  for m in metrics]\n",
    "\n",
    "\n",
    "def plot_graphs(history, metrics=[\"loss\"] + metrics_name):\n",
    "  plt.figure(figsize=(80, 15))\n",
    "\n",
    "  for i, metric in enumerate(metrics):\n",
    "    plt.subplot(1, len(metrics_name)+1, i+1)\n",
    "    plt.plot(history[metric])\n",
    "    plt.plot(history['val_'+metric], '')\n",
    "    plt.xlabel(\"Epochs\")\n",
    "    plt.ylabel(metric)\n",
    "    plt.legend([metric, 'val_'+metric])"
   ]
  }
 ],
 "metadata": {
  "accelerator": "GPU",
  "colab": {
   "collapsed_sections": [],
   "name": "model.ipynb",
   "provenance": []
  },
  "kernelspec": {
   "display_name": "Python 3",
   "language": "python",
   "name": "python3"
  },
  "language_info": {
   "codemirror_mode": {
    "name": "ipython",
    "version": 3
   },
   "file_extension": ".py",
   "mimetype": "text/x-python",
   "name": "python",
   "nbconvert_exporter": "python",
   "pygments_lexer": "ipython3",
   "version": "3.8.8"
  }
 },
 "nbformat": 4,
 "nbformat_minor": 5
}
