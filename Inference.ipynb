{
 "cells": [
  {
   "cell_type": "code",
   "execution_count": 1,
   "id": "41568579-7db9-4b03-b3a4-ef5fcb20aa2a",
   "metadata": {},
   "outputs": [],
   "source": [
    "from predict_ingredients import ModelPredict"
   ]
  },
  {
   "cell_type": "code",
   "execution_count": 2,
   "id": "eafb83e9-1a38-4a27-bcb1-6597dfe0519f",
   "metadata": {},
   "outputs": [],
   "source": [
    "MODEL_PATH = \"./models_big/model1/1/\"\n",
    "LABEL_BINARIZER_PATH = \"./models_small/model1/1/model1_mbl.pkl\""
   ]
  },
  {
   "cell_type": "code",
   "execution_count": 3,
   "id": "ccab73ba-677f-4f17-9bb7-b09d28bbfa80",
   "metadata": {},
   "outputs": [],
   "source": [
    "data = {\"1\":\"Mix oats with buttermilk.  Let stand for 1/2 hour.**Stir oil, egg, and brown sugar into oat mixture. Stir together flour, baking powder, soda, and salt: mix into oat mixture.  Pour batter into a greased and floured 8 1/2 x 4 1/2 inch loaf pan.**Bake at 350 degrees F (175 degrees C) for 55 to 60 minutes, or until done.**\"}"
   ]
  },
  {
   "cell_type": "code",
   "execution_count": 6,
   "id": "68199c2a-b2ce-4d05-b576-27cab407f36f",
   "metadata": {},
   "outputs": [
    {
     "name": "stdout",
     "output_type": "stream",
     "text": [
      "WARNING:tensorflow:SavedModel saved prior to TF 2.5 detected when loading Keras model. Please ensure that you are saving the model with model.save() or tf.keras.models.save_model(), *NOT* tf.saved_model.save(). To confirm, there should be a file named \"keras_metadata.pb\" in the SavedModel directory.\n"
     ]
    },
    {
     "name": "stderr",
     "output_type": "stream",
     "text": [
      "[nltk_data] Downloading package wordnet to /home/sergiuz/nltk_data...\n",
      "[nltk_data]   Package wordnet is already up-to-date!\n"
     ]
    },
    {
     "data": {
      "text/plain": [
       "{'1': ('baking soda',\n",
       "  'butter',\n",
       "  'egg',\n",
       "  'flour',\n",
       "  'salt',\n",
       "  'vanilla',\n",
       "  'white sugar')}"
      ]
     },
     "execution_count": 6,
     "metadata": {},
     "output_type": "execute_result"
    }
   ],
   "source": [
    "m = ModelPredict(MODEL_PATH, LABEL_BINARIZER_PATH)\n",
    "m.predict(data)"
   ]
  }
 ],
 "metadata": {
  "kernelspec": {
   "display_name": "recipes_notebooks",
   "language": "python",
   "name": "recipes_notebooks"
  },
  "language_info": {
   "codemirror_mode": {
    "name": "ipython",
    "version": 3
   },
   "file_extension": ".py",
   "mimetype": "text/x-python",
   "name": "python",
   "nbconvert_exporter": "python",
   "pygments_lexer": "ipython3",
   "version": "3.8.5"
  }
 },
 "nbformat": 4,
 "nbformat_minor": 5
}
